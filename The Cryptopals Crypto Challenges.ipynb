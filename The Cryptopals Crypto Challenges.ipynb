{
 "cells": [
  {
   "cell_type": "markdown",
   "id": "52288491",
   "metadata": {},
   "source": [
    "# The Cryptopals Crypto Challenges (Javascript)\n",
    "## Set 1\n",
    "\n",
    "### Convert hex to base64"
   ]
  },
  {
   "cell_type": "code",
   "execution_count": 1,
   "id": "93d90aec",
   "metadata": {},
   "outputs": [
    {
     "name": "stdout",
     "output_type": "stream",
     "text": [
      "SSdtIGtpbGxpbmcgeW91ciBicmFpbiBsaWtlIGEgcG9pc29ub3VzIG11c2hyb29t\n"
     ]
    }
   ],
   "source": [
    "const hexString = \"49276d206b696c6c696e6720796f757220627261696e206c696b65206120706f69736f6e6f7573206d757368726f6f6d\";\n",
    "\n",
    "console.log(Buffer.from(hexString, 'hex').toString('base64'));"
   ]
  },
  {
   "cell_type": "markdown",
   "id": "63fb8be6",
   "metadata": {},
   "source": [
    "### Fixed XOR"
   ]
  },
  {
   "cell_type": "code",
   "execution_count": 2,
   "id": "f127c870",
   "metadata": {},
   "outputs": [
    {
     "name": "stdout",
     "output_type": "stream",
     "text": [
      "746865206b696420646f6e277420706c6179\n"
     ]
    }
   ],
   "source": [
    "const s1 = Buffer.from(\"1c0111001f010100061a024b53535009181c\", 'hex')\n",
    "const s2 = Buffer.from(\"686974207468652062756c6c277320657965\", 'hex')\n",
    "\n",
    "var s = \"\"\n",
    "\n",
    "for(var i = 0; i < s1.length; i++) {\n",
    "    s += (s1[i] ^ s2[i]).toString(16)\n",
    "}\n",
    "\n",
    "console.log(s);"
   ]
  },
  {
   "cell_type": "markdown",
   "id": "2b80b96f",
   "metadata": {},
   "source": [
    "### Single-byte XOR Cipher"
   ]
  },
  {
   "cell_type": "code",
   "execution_count": null,
   "id": "319bb9e7",
   "metadata": {},
   "outputs": [],
   "source": [
    "const encryptedString = Buffer.from(\"1b37373331363f78151b7f2b783431333d78397828372d363c78373e783a393b3736\", 'hex')\n",
    "\n",
    "for(var i = 0; i < 256; i++){\n",
    "    var output = [];\n",
    "    for(var j = 0; j < encryptedString.length; j++) {\n",
    "        output[j] = i ^ encryptedString[j];\n",
    "    }\n",
    "    console.log(i, Buffer.from(output).toString(\"ascii\"));\n",
    "}\n",
    "\n",
    "// Answer at character (88,120,216,248) which represent (X,x,Ï,°) in ASCII\n",
    "// 88 Cooking MC's like a pound of bacon\n",
    "// 120 cOOKINGmc\u0007SLIKEAPOUNDOFBACON\n",
    "// 216 Cooking MC's like a pound of bacon\n",
    "// 248 cOOKINGmc\u0007SLIKEAPOUNDOFBACON"
   ]
  },
  {
   "cell_type": "markdown",
   "id": "77a30d97",
   "metadata": {},
   "source": [
    "### Detect single-character XOR"
   ]
  },
  {
   "cell_type": "code",
   "execution_count": null,
   "id": "cfae8caa",
   "metadata": {},
   "outputs": [],
   "source": [
    "const fs = require('fs')\n",
    "\n",
    "fs.readFile(\"set1-4.txt\", \"utf8\" , (err, data) => {\n",
    "  if (err) {\n",
    "    console.error(err)\n",
    "    return\n",
    "  }\n",
    "\n",
    "  const encryptedArr = data.split(\"\\n\");\n",
    "\n",
    "  for(var i = 0; i < 256; i++){\n",
    "    var output = [];\n",
    "    for(var j = 0; j < encryptedArr.length; j++) {\n",
    "      var x = Buffer.from(encryptedArr[j], 'hex');\n",
    "      for(var z = 0; z < x.length; z++) {\n",
    "        output[z] = i ^ x[z];\n",
    "      }\n",
    "      console.log(j, i, Buffer.from(output).toString(\"ascii\"));\n",
    "    }\n",
    "  }\n",
    "})\n",
    "\n",
    "// HEX string at position 170 in the file can be decrypted by XORing it \n",
    "// with ASCII charachters (5,Á) represetned by (53,181).\n",
    "// 170 53 Now that the party is jumping\n",
    "// 170 181 Now that the party is jumping"
   ]
  },
  {
   "cell_type": "markdown",
   "id": "18430dba",
   "metadata": {},
   "source": [
    "### Implement repeating-key XOR"
   ]
  },
  {
   "cell_type": "code",
   "execution_count": 3,
   "id": "dc42663e",
   "metadata": {},
   "outputs": [
    {
     "name": "stdout",
     "output_type": "stream",
     "text": [
      "0b3637272a2b2e63622c2e69692a23693a2a3c6324202d623d63343c2a26226324272765272a282b2f20430a652e2c652a3124333a653e2b2027630c692b20283165286326302e27282f\n"
     ]
    }
   ],
   "source": [
    "const txt = Buffer.from(\"Burning 'em, if you ain't quick and nimble\\nI go crazy when I hear a cymbal\");\n",
    "const key = Buffer.from(\"ICE\");\n",
    "\n",
    "var output = [];\n",
    "\n",
    "for(var i = 0; i < txt.length; i++) {\n",
    "  output[i] = txt[i] ^ key[i%3];\n",
    "}\n",
    "console.log(Buffer.from(output).toString(\"hex\"));"
   ]
  },
  {
   "cell_type": "code",
   "execution_count": null,
   "id": "89f4fad2",
   "metadata": {},
   "outputs": [],
   "source": []
  }
 ],
 "metadata": {
  "kernelspec": {
   "display_name": "JavaScript (Node.js)",
   "language": "javascript",
   "name": "javascript"
  },
  "language_info": {
   "file_extension": ".js",
   "mimetype": "application/javascript",
   "name": "javascript",
   "version": "14.16.1"
  }
 },
 "nbformat": 4,
 "nbformat_minor": 5
}
